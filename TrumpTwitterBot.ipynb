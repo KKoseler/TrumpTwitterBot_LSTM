{
 "cells": [
  {
   "cell_type": "code",
   "execution_count": 1,
   "metadata": {},
   "outputs": [
    {
     "name": "stderr",
     "output_type": "stream",
     "text": [
      "Using TensorFlow backend.\n"
     ]
    }
   ],
   "source": [
    "import pandas as pd\n",
    "from keras.callbacks import LambdaCallback\n",
    "from keras.models import Sequential\n",
    "from keras.layers import Dense, Activation\n",
    "from keras.layers import LSTM\n",
    "from keras.optimizers import Adam\n",
    "import tensorflow as tf\n",
    "import numpy as np\n",
    "import sys\n",
    "import random"
   ]
  },
  {
   "cell_type": "code",
   "execution_count": 2,
   "metadata": {
    "collapsed": true
   },
   "outputs": [],
   "source": [
    "trump_csv = pd.read_csv('Donald-Tweets!.csv')\n",
    "\n",
    "trump_csv['Tweet_Text'].to_csv('Tweet_Text.txt', index=False)"
   ]
  },
  {
   "cell_type": "code",
   "execution_count": 3,
   "metadata": {
    "collapsed": true
   },
   "outputs": [],
   "source": [
    "file = open('Tweet_Text.txt', 'r', encoding='utf-8')\n",
    "text = file.read()\n",
    "file.close()"
   ]
  },
  {
   "cell_type": "code",
   "execution_count": 4,
   "metadata": {},
   "outputs": [
    {
     "name": "stdout",
     "output_type": "stream",
     "text": [
      "There are 865560 total characters and 106 unique characters in our data.\n"
     ]
    }
   ],
   "source": [
    "chars = list(set(text))\n",
    "data_size, vocab_size = len(text), len(chars)\n",
    "print('There are %d total characters and %d unique characters in our data.' % (data_size, vocab_size))"
   ]
  },
  {
   "cell_type": "code",
   "execution_count": 5,
   "metadata": {},
   "outputs": [
    {
     "name": "stdout",
     "output_type": "stream",
     "text": [
      "{0: '\\n', 1: ' ', 2: '!', 3: '\"', 4: '#', 5: '$', 6: '%', 7: '&', 8: '(', 9: ')', 10: '*', 11: '+', 12: ',', 13: '-', 14: '.', 15: '/', 16: '0', 17: '1', 18: '2', 19: '3', 20: '4', 21: '5', 22: '6', 23: '7', 24: '8', 25: '9', 26: ':', 27: ';', 28: '=', 29: '?', 30: '@', 31: 'A', 32: 'B', 33: 'C', 34: 'D', 35: 'E', 36: 'F', 37: 'G', 38: 'H', 39: 'I', 40: 'J', 41: 'K', 42: 'L', 43: 'M', 44: 'N', 45: 'O', 46: 'P', 47: 'Q', 48: 'R', 49: 'S', 50: 'T', 51: 'U', 52: 'V', 53: 'W', 54: 'X', 55: 'Y', 56: 'Z', 57: '[', 58: ']', 59: '_', 60: 'a', 61: 'b', 62: 'c', 63: 'd', 64: 'e', 65: 'f', 66: 'g', 67: 'h', 68: 'i', 69: 'j', 70: 'k', 71: 'l', 72: 'm', 73: 'n', 74: 'o', 75: 'p', 76: 'q', 77: 'r', 78: 's', 79: 't', 80: 'u', 81: 'v', 82: 'w', 83: 'x', 84: 'y', 85: 'z', 86: '{', 87: '|', 88: '}', 89: '~', 90: 'ʉ', 91: '̱', 92: 'ω', 93: 'я', 94: 'ӕ', 95: 'ԍ', 96: 'ԏ', 97: 'Ԡ', 98: 'ե', 99: 'լ', 100: 'ջ', 101: 'ُ', 102: '٪', 103: '\\u06dd', 104: 'ۢ', 105: '۪'}\n"
     ]
    }
   ],
   "source": [
    "char_indices = { ch:i for i,ch in enumerate(sorted(chars)) }\n",
    "indices_char = { i:ch for i,ch in enumerate(sorted(chars)) }\n",
    "print(indices_char)"
   ]
  },
  {
   "cell_type": "code",
   "execution_count": 6,
   "metadata": {},
   "outputs": [
    {
     "name": "stdout",
     "output_type": "stream",
     "text": [
      "nb sequences: 288500\n"
     ]
    }
   ],
   "source": [
    "maxlen = 60\n",
    "step = 3\n",
    "sentences = []\n",
    "next_chars = []\n",
    "diversity = 0.7\n",
    "for i in range(0, len(text) - maxlen, step):\n",
    "    sentences.append(text[i: i + maxlen])\n",
    "    next_chars.append(text[i + maxlen])\n",
    "print('nb sequences:', len(sentences))"
   ]
  },
  {
   "cell_type": "code",
   "execution_count": 7,
   "metadata": {},
   "outputs": [
    {
     "name": "stdout",
     "output_type": "stream",
     "text": [
      "Vectorization...\n"
     ]
    }
   ],
   "source": [
    "print('Vectorization...')\n",
    "x = np.zeros((len(sentences), maxlen, len(chars)), dtype=np.bool)\n",
    "y = np.zeros((len(sentences), len(chars)), dtype=np.bool)\n",
    "for i, sentence in enumerate(sentences):\n",
    "    for t, char in enumerate(sentence):\n",
    "        x[i, t, char_indices[char]] = 1\n",
    "    y[i, char_indices[next_chars[i]]] = 1"
   ]
  },
  {
   "cell_type": "code",
   "execution_count": 8,
   "metadata": {},
   "outputs": [
    {
     "name": "stdout",
     "output_type": "stream",
     "text": [
      "Build model...\n",
      "Epoch 1/20\n",
      "288256/288500 [============================>.] - ETA: 0s - loss: 2.2632\n",
      "----- Generating text after Epoch: 0\n",
      "----- Generating with seed: \"rters by endorsing pro-war pro-TPP pro-Wall Street Crooked H\"\n",
      "rters by endorsing pro-war pro-TPP pro-Wall Street Crooked Hillary to 7:30 over the rele and and wint my lest toter atessed to eed to saud by vote winter trampen every ofer will but. Thank you heres d\n",
      "288500/288500 [==============================] - 156s 540us/step - loss: 2.2629\n",
      "Epoch 2/20\n",
      "288256/288500 [============================>.] - ETA: 0s - loss: 1.8173\n",
      "----- Generating text after Epoch: 1\n",
      "----- Generating with seed: \" very gentle!\"\n",
      "The arrogant young woman who questioned me in\"\n",
      " very gentle!\"\n",
      "The arrogant young woman who questioned me in the failer people are up a need last the for a the the prees than out a great as only who vetio sheed of medials great and the distraenng t\n",
      "288500/288500 [==============================] - 156s 540us/step - loss: 1.8172\n",
      "Epoch 3/20\n",
      "288256/288500 [============================>.] - ETA: 0s - loss: 1.7049\n",
      "----- Generating text after Epoch: 2\n",
      "----- Generating with seed: \"ery sad that he did not go!\n",
      "\"\"\"@Carolyn82471448: @WayneDupre\"\n",
      "ery sad that he did not go!\n",
      "\"\"\"@Carolyn82471448: @WayneDupre: @realDonaldTrump is a liggeraise for and you think you a- @CNN have our dibed mote done on @realDonaldTrump https://t.co/vUoJBigzW1 https:\n",
      "288500/288500 [==============================] - 154s 535us/step - loss: 1.7047\n",
      "Epoch 4/20\n",
      "288256/288500 [============================>.] - ETA: 0s - loss: 1.6439\n",
      "----- Generating text after Epoch: 3\n",
      "----- Generating with seed: \"etApologist This is big criticism of the Republican field. S\"\n",
      "etApologist This is big criticism of the Republican field. Sy the rig lifting totally dombail. Hillary Trump of the take Trump is hearte @CNN President ppectational the nice spote furts, the ppolls wi\n",
      "288500/288500 [==============================] - 154s 532us/step - loss: 1.6439\n",
      "Epoch 5/20\n",
      "288256/288500 [============================>.] - ETA: 0s - loss: 1.6058\n",
      "----- Generating text after Epoch: 4\n",
      "----- Generating with seed: \"l4Trump: Wow @megynkelly. You openly LIE about whos ahead in\"\n",
      "l4Trump: Wow @megynkelly. You openly LIE about whos ahead in back ay a thank you with @realDonaldTrump person peop border to be a now about vote of expranied to the good!\n",
      "\"https://t.co/JOgfYW7P5qz\"\n",
      "\"J\n",
      "288500/288500 [==============================] - 154s 533us/step - loss: 1.6058\n",
      "Epoch 6/20\n",
      "288256/288500 [============================>.] - ETA: 0s - loss: 1.5780\n",
      "----- Generating text after Epoch: 5\n",
      "----- Generating with seed: \"ageant. I sold it 6 months ago for a record price. This woul\"\n",
      "ageant. I sold it 6 months ago for a record price. This would the Presidential Cons tonal most and support is the Resson\n",
      "https://t.co/CIOiurOlgB\n",
      "\"\"\"@ForNews: @realDonaldTrump look a merain. Then can m\n",
      "288500/288500 [==============================] - 155s 537us/step - loss: 1.5780\n",
      "Epoch 7/20\n",
      "288256/288500 [============================>.] - ETA: 0s - loss: 1.5533\n",
      "----- Generating text after Epoch: 6\n",
      "----- Generating with seed: \" so much that Iran made a good deal, its that Kerry and Obam\"\n",
      " so much that Iran made a good deal, its that Kerry and Obamn and protect and siff came of me be a doing the that have been the they will be a billions being a great down with is a allows with @KarlRo\n",
      "288500/288500 [==============================] - 155s 538us/step - loss: 1.5534\n",
      "Epoch 8/20\n",
      "288256/288500 [============================>.] - ETA: 0s - loss: 1.5375\n",
      "----- Generating text after Epoch: 7\n",
      "----- Generating with seed: \"o fucking love @realDonaldTrump. He speaks the truth!\"\"\"\n",
      "\"\"\"\"\n",
      "o fucking love @realDonaldTrump. He speaks the truth!\"\"\"\n",
      "\"\"\"@wongabripiatson: @realDonaldTrump @Markart\n",
      "https://t.co/E9FmFFNG7KS\"\n",
      "\"If country. Thank you signed to this and me. Would be atching up no g\n",
      "288500/288500 [==============================] - 158s 548us/step - loss: 1.5376\n",
      "Epoch 9/20\n",
      "288256/288500 [============================>.] - ETA: 0s - loss: 1.5239\n",
      "----- Generating text after Epoch: 8\n",
      "----- Generating with seed: \"co/yxrRkJJSGG https://t.co/Trv1hj9hRI\"\n",
      "\"\"\"@KinnardJan: @Itsj\"\n",
      "co/yxrRkJJSGG https://t.co/Trv1hj9hRI\"\n",
      "\"\"\"@KinnardJan: @Itsjontjink: The  endorsemend is week to #DrainTheSwamp! Thank you!\"\n",
      "\"\"\"@majoy201: @realDonaldTrump @MarimaCirary is a Megon and the said second\n",
      "288500/288500 [==============================] - 158s 548us/step - loss: 1.5239\n",
      "Epoch 10/20\n",
      "288256/288500 [============================>.] - ETA: 0s - loss: 1.5125\n",
      "----- Generating text after Epoch: 9\n",
      "----- Generating with seed: \"! #CaucusForTrump #IACaucus\n",
      "#iCaucused #iVoted\n",
      "https://t.co/\"\n",
      "! #CaucusForTrump #IACaucus\n",
      "#iCaucused #iVoted\n",
      "https://t.co/sJrNaKEYXO\"\n",
      "\"I doing true!\"\n",
      "\"\"\"@MAGARa: The National Corvision but have anything all a to came to your betwerting to mellarous soon. Storiat\n",
      "288500/288500 [==============================] - 160s 555us/step - loss: 1.5125\n",
      "Epoch 11/20\n",
      "288256/288500 [============================>.] - ETA: 0s - loss: 1.5011\n",
      "----- Generating text after Epoch: 10\n",
      "----- Generating with seed: \"he game!\"\" Thank you.\"\n",
      "\"\"\"@jimmcvey1: @eddiern  @DeusVultUSM\"\n",
      "he game!\"\" Thank you.\"\n",
      "\"\"\"@jimmcvey1: @eddiern  @DeusVultUSM thank you This is now that does the only way, OHIO or say @realDonaldTrump https://t.co/VCzi4XYHG https://t.co/kqHdNstqqv\"\n",
      "Thank you @realD\n",
      "288500/288500 [==============================] - 159s 552us/step - loss: 1.5009\n",
      "Epoch 12/20\n",
      "288256/288500 [============================>.] - ETA: 0s - loss: 1.4928\n",
      "----- Generating text after Epoch: 11\n",
      "----- Generating with seed: \"nd. Amendment!\n",
      "\"The podium in the Oval Office looks odd! Not\"\n",
      "nd. Amendment!\n",
      "\"The podium in the Oval Office looks odd! Not now in Michessing @gretas so wants to rating at the Reagan If and right at 10:30pmE, Michamme and Ohio who deard a Prience Libertic many pr\n",
      "288500/288500 [==============================] - 154s 535us/step - loss: 1.4930\n",
      "Epoch 13/20\n",
      "288256/288500 [============================>.] - ETA: 0s - loss: 1.4869\n",
      "----- Generating text after Epoch: 12\n",
      "----- Generating with seed: \"mp weighs in on last nights Democratic debate -- http://t.co\"\n",
      "mp weighs in on last nights Democratic debate -- http://t.co/Er4uMEfUMt\"\n",
      "\"We cant out to has been of the state when with The USA @realDonaldTrump from Hillary Clinton is that the polls in Cana need th\n",
      "288500/288500 [==============================] - 155s 537us/step - loss: 1.4868\n",
      "Epoch 14/20\n",
      "288256/288500 [============================>.] - ETA: 0s - loss: 1.4789\n",
      "----- Generating text after Epoch: 13\n",
      "----- Generating with seed: \" look very smart!\n",
      "\"\"\"@BrianBl43802294 @JohnKasich Trump is n\"\n",
      " look very smart!\n",
      "\"\"\"@BrianBl43802294 @JohnKasich Trump is not refarobrating many place complete Americans choice.\"\n",
      "\"It was this morning the because back for the Republican or a politics speeched to L\n",
      "288500/288500 [==============================] - 154s 534us/step - loss: 1.4788\n",
      "Epoch 15/20\n",
      "288256/288500 [============================>.] - ETA: 0s - loss: 1.4719\n",
      "----- Generating text after Epoch: 14\n",
      "----- Generating with seed: \" #MakeAmericaGreatAgain https://t.co/tIBB3BMUvp\n",
      "\"New PPP Pol\"\n",
      " #MakeAmericaGreatAgain https://t.co/tIBB3BMUvp\n",
      "\"New PPP Poll @realDonaldTrump lies all of the people in Sainees of #NewYour Look on The @jeblica https://t.co/B0ck7FPZnKNe https://t.co/zhBFcFPIfIz htt\n",
      "288500/288500 [==============================] - 155s 537us/step - loss: 1.4718\n",
      "Epoch 16/20\n",
      "288256/288500 [============================>.] - ETA: 0s - loss: 1.4674\n",
      "----- Generating text after Epoch: 15\n",
      "----- Generating with seed: \" going - I will win for the people. MAKE AMERICA GREAT AGAIN\"\n",
      " going - I will win for the people. MAKE AMERICA GREAT AGAIN!\"\n",
      "\"\"\"@Cleberanny @Uninke7 Republican Should have support of the GOP.\"\"\"\n",
      "\"\"\"@Bllaen65: @realDonaldTrump Republican Manabers 737 Enjoy! https\n",
      "288500/288500 [==============================] - 156s 542us/step - loss: 1.4675\n",
      "Epoch 17/20\n",
      "288256/288500 [============================>.] - ETA: 0s - loss: 1.4607\n",
      "----- Generating text after Epoch: 16\n",
      "----- Generating with seed: \"e are going to make this a government of the people once aga\"\n"
     ]
    },
    {
     "name": "stdout",
     "output_type": "stream",
     "text": [
      "e are going to make this a government of the people once against dont be a representrationst locing @CNN new have to be the dont tonight and v"
     ]
    },
    {
     "name": "stderr",
     "output_type": "stream",
     "text": [
      "F:\\ProgramData\\Anaconda\\lib\\site-packages\\ipykernel_launcher.py:15: RuntimeWarning: divide by zero encountered in log\n",
      "  from ipykernel import kernelapp as app\n"
     ]
    },
    {
     "name": "stdout",
     "output_type": "stream",
     "text": [
      "ery won in teerest today. We are long that we can https://\n",
      "288500/288500 [==============================] - 156s 540us/step - loss: 1.4607\n",
      "Epoch 18/20\n",
      "288256/288500 [============================>.] - ETA: 0s - loss: 1.4601\n",
      "----- Generating text after Epoch: 17\n",
      "----- Generating with seed: \"he oil years ago (like I have been saying).\n",
      "\"Wish Obama woul\"\n",
      "he oil years ago (like I have been saying).\n",
      "\"Wish Obama would be solver the traders. The President that you will be doing a sell the falled smoing everything to couldnd on @CNN states. #DrainJohard\"\n",
      "\"\n",
      "288500/288500 [==============================] - 155s 538us/step - loss: 1.4600\n",
      "Epoch 19/20\n",
      "288256/288500 [============================>.] - ETA: 0s - loss: 1.4514\n",
      "----- Generating text after Epoch: 18\n",
      "----- Generating with seed: \"Tarant: America needs @realDonaldTrump ! #Trump2016 #BuildTh\"\n",
      "Tarant: America needs @realDonaldTrump ! #Trump2016 #BuildThind AmericaGreatAgain https://t.co/txahDGajNB3\n",
      "\"Great job #DebayBSC @GOPverynt News #Sulten endorsement go bossed from Surbe somurecald of t\n",
      "288500/288500 [==============================] - 154s 533us/step - loss: 1.4513\n",
      "Epoch 20/20\n",
      "288256/288500 [============================>.] - ETA: 0s - loss: 1.4521\n",
      "----- Generating text after Epoch: 19\n",
      "----- Generating with seed: \"cannot take four more years of Barack Obama and that۪s what \"\n",
      "cannot take four more years of Barack Obama and that۪s what #DeanDCaryForts Donald Trump wow! Check &amp; the shad the move @megynkelly to melts to compaigh made in the USA. @CNN @realDonaldTrump. I t\n",
      "288500/288500 [==============================] - 155s 538us/step - loss: 1.4520\n"
     ]
    }
   ],
   "source": [
    "# build the model: a single LSTM\n",
    "print('Build model...')\n",
    "model = Sequential()\n",
    "model.add(LSTM(128, input_shape=(maxlen, len(chars))))\n",
    "model.add(Dense(len(chars)))\n",
    "model.add(Activation('softmax'))\n",
    "\n",
    "optimizer = Adam(lr=0.01)\n",
    "model.compile(loss='categorical_crossentropy', optimizer=optimizer)\n",
    "\n",
    "\n",
    "def sample(preds, temperature=1.0):\n",
    "    # helper function to sample an index from a probability array\n",
    "    preds = np.asarray(preds).astype('float64')\n",
    "    preds = np.log(preds) / temperature\n",
    "    exp_preds = np.exp(preds)\n",
    "    preds = exp_preds / np.sum(exp_preds)\n",
    "    probas = np.random.multinomial(1, preds, 1)\n",
    "    return np.argmax(probas)\n",
    "\n",
    "\n",
    "def on_epoch_end(epoch, logs):\n",
    "    # Function invoked at end of each epoch. Prints generated text.\n",
    "    print()\n",
    "    print('----- Generating text after Epoch: %d' % epoch)\n",
    "\n",
    "    start_index = random.randint(0, len(text) - maxlen - 1)\n",
    "\n",
    "    generated = ''\n",
    "    sentence = text[start_index: start_index + maxlen]\n",
    "    generated += sentence\n",
    "    print('----- Generating with seed: \"' + sentence + '\"')\n",
    "    sys.stdout.write(generated)\n",
    "\n",
    "    for i in range(140):\n",
    "        x_pred = np.zeros((1, maxlen, len(chars)))\n",
    "        for t, char in enumerate(sentence):\n",
    "            x_pred[0, t, char_indices[char]] = 1.\n",
    "\n",
    "        preds = model.predict(x_pred, verbose=0)[0]\n",
    "        next_index = sample(preds, diversity)\n",
    "        next_char = indices_char[next_index]\n",
    "\n",
    "        generated += next_char\n",
    "        sentence = sentence[1:] + next_char\n",
    "\n",
    "        sys.stdout.write(next_char)\n",
    "        sys.stdout.flush()\n",
    "    print()\n",
    "\n",
    "print_callback = LambdaCallback(on_epoch_end=on_epoch_end)\n",
    "with tf.device('/gpu:0'):\n",
    "    model.fit(x, y,\n",
    "              batch_size=256,\n",
    "              epochs=20,\n",
    "              callbacks=[print_callback])"
   ]
  },
  {
   "cell_type": "code",
   "execution_count": 11,
   "metadata": {},
   "outputs": [
    {
     "name": "stdout",
     "output_type": "stream",
     "text": [
      "Epoch 1/10\n",
      "288256/288500 [============================>.] - ETA: 0s - loss: 1.4128\n",
      "----- Generating text after Epoch: 0\n",
      "----- Generating with seed: \"t and liabilities. So simple to understand but @CNN &amp; @C\"\n",
      "t and liabilities. So simple to understand but @CNN &amp; @CNN Sen will neve"
     ]
    },
    {
     "name": "stderr",
     "output_type": "stream",
     "text": [
      "F:\\ProgramData\\Anaconda\\lib\\site-packages\\ipykernel_launcher.py:15: RuntimeWarning: divide by zero encountered in log\n",
      "  from ipykernel import kernelapp as app\n"
     ]
    },
    {
     "name": "stdout",
     "output_type": "stream",
     "text": [
      "r respect say you!  https://t.co/KTuJF7YG70\"\n",
      "\"Thank you Donald Trump\"\" #MakeAmericaGreatAgain #Trump2016 https://t.co/ongkuR\n",
      "288500/288500 [==============================] - 159s 553us/step - loss: 1.4128\n",
      "Epoch 2/10\n",
      "288256/288500 [============================>.] - ETA: 0s - loss: 1.4044\n",
      "----- Generating text after Epoch: 1\n",
      "----- Generating with seed: \"can find your polling locations at:\n",
      "https://t.co/BmZyKQOZJJ \"\n",
      "can find your polling locations at:\n",
      "https://t.co/BmZyKQOZJJ https://t.co/EOtyZEyd7m\"\n",
      "\"\"\"@orelandccotsh: @realDonaldTrump @FoxNews https://t.co/3eg6GkJ83V\"\n",
      "\"\"\"@blargyenlites: @realDonaldTrump 78,000 th\n",
      "288500/288500 [==============================] - 160s 555us/step - loss: 1.4046\n",
      "Epoch 3/10\n",
      "288256/288500 [============================>.] - ETA: 0s - loss: 1.4069\n",
      "----- Generating text after Epoch: 2\n",
      "----- Generating with seed: \"GreatAgain #Trump2016\"\" http://t.co/GSXf8Tfzvn\"\n",
      "\"\"\"@nozzero \"\n",
      "GreatAgain #Trump2016\"\" http://t.co/GSXf8Tfzvn\"\n",
      "\"\"\"@nozzero poll not to campaign in their law enorsing in the former Depage, he was going to be \"\"greaty officity. Thank you Genator after reporters tod\n",
      "288500/288500 [==============================] - 161s 557us/step - loss: 1.4067\n",
      "Epoch 4/10\n",
      "288256/288500 [============================>.] - ETA: 0s - loss: 1.4055\n",
      "----- Generating text after Epoch: 3\n",
      "----- Generating with seed: \"rous, dishonest.\"\n",
      "\"If you want to know about Hillary Clinton\"\n",
      "rous, dishonest.\"\n",
      "\"If you want to know about Hillary Clinton is the lead of the people be stafficizenters in the man will our great event hand screating and her falled for his cauch lobbyism. Lets not\n",
      "288500/288500 [==============================] - 161s 559us/step - loss: 1.4055\n",
      "Epoch 5/10\n",
      "288256/288500 [============================>.] - ETA: 0s - loss: 1.4098\n",
      "----- Generating text after Epoch: 4\n",
      "----- Generating with seed: \"day of the woman central to the failing @nytimes hit piece o\"\n",
      "day of the woman central to the failing @nytimes hit piece on a never become in the Wauched to make the disasticity for some the owned and the set the only good in DC sublempa for the middly who usedi\n",
      "288500/288500 [==============================] - 154s 534us/step - loss: 1.4099\n",
      "Epoch 6/10\n",
      "288256/288500 [============================>.] - ETA: 0s - loss: 1.4050\n",
      "----- Generating text after Epoch: 5\n",
      "----- Generating with seed: \"ing to stay at the trough!\n",
      "Cruz going down fast in recent po\"\n",
      "ing to stay at the trough!\n",
      "Cruz going down fast in recent poll on all of this is people and working nomone tries!\"\n",
      "\"\"\"@BicthnOWobitenore589: @realDonaldTrump The Ber File special and we wont will be o\n",
      "288500/288500 [==============================] - 155s 538us/step - loss: 1.4051\n",
      "Epoch 7/10\n",
      "288256/288500 [============================>.] - ETA: 0s - loss: 1.4095\n",
      "----- Generating text after Epoch: 6\n",
      "----- Generating with seed: \"ngratulations Don that was a great interview @realDonaldTrum\"\n",
      "ngratulations Don that was a great interview @realDonaldTrump @SanSadyFile and winner and Joe Chris and states.\"\"\"\n",
      "\"\"\"@Tampayk: Many has the 2016!\"\n",
      "\"Why husher_\"\n",
      "\"\"\"@seanesrengeriang9: Media campaign \n",
      "288500/288500 [==============================] - 157s 544us/step - loss: 1.4094\n",
      "Epoch 8/10\n",
      "288256/288500 [============================>.] - ETA: 0s - loss: 1.4046\n",
      "----- Generating text after Epoch: 7\n",
      "----- Generating with seed: \"tDa\"\"\"\n",
      "\"\"\"@costareports: The Posts latest on Trump: https://\"\n",
      "tDa\"\"\"\n",
      "\"\"\"@costareports: The Posts latest on Trump: https://t.co/HKzid9WhrD\n",
      "\"\"\"@Therilliarsman: @realDonaldTrump @FoxNews You are he is not to winning @Ilanderel of #Acuary should do a about him! #Mak\n",
      "288500/288500 [==============================] - 154s 533us/step - loss: 1.4046\n",
      "Epoch 9/10\n",
      "288256/288500 [============================>.] - ETA: 0s - loss: 1.4093\n",
      "----- Generating text after Epoch: 8\n",
      "----- Generating with seed: \"p. You did great tonight. You made us ALL proud :) YES! SAYI\"\n",
      "p. You did great tonight. You made us ALL proud :) YES! SAYING RUBUDED  your weakn to do gonnal in I have to he was a fantastic a Rubio got @realDonaldTrump Rubio is a debate president was a \"\"Amenss \n",
      "288500/288500 [==============================] - 156s 541us/step - loss: 1.4092\n",
      "Epoch 10/10\n",
      "288256/288500 [============================>.] - ETA: 0s - loss: 1.3979\n",
      "----- Generating text after Epoch: 9\n",
      "----- Generating with seed: \"oliticians. I will fix VA quickly.\n",
      "Via @fitsnews: Donald Tru\"\n",
      "oliticians. I will fix VA quickly.\n",
      "Via @fitsnews: Donald Trump to campaign in landile of my this does Trump need the @nytimes and Cruz, she is a total him says and buy is so many list not the Markes a\n",
      "288500/288500 [==============================] - 154s 534us/step - loss: 1.3979\n"
     ]
    }
   ],
   "source": [
    "with tf.device('/gpu:0'):\n",
    "    model.fit(x, y,\n",
    "              batch_size=256,\n",
    "              epochs=10,\n",
    "              callbacks=[print_callback])"
   ]
  },
  {
   "cell_type": "code",
   "execution_count": null,
   "metadata": {
    "collapsed": true
   },
   "outputs": [],
   "source": []
  }
 ],
 "metadata": {
  "kernelspec": {
   "display_name": "Python 3",
   "language": "python",
   "name": "python3"
  },
  "language_info": {
   "codemirror_mode": {
    "name": "ipython",
    "version": 3
   },
   "file_extension": ".py",
   "mimetype": "text/x-python",
   "name": "python",
   "nbconvert_exporter": "python",
   "pygments_lexer": "ipython3",
   "version": "3.6.3"
  }
 },
 "nbformat": 4,
 "nbformat_minor": 2
}
